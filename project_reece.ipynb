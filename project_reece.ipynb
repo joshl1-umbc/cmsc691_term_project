{
  "cells": [
    {
      "cell_type": "code",
      "execution_count": null,
      "metadata": {
        "colab": {
          "base_uri": "https://localhost:8080/"
        },
        "id": "_6AfgF3_arYL",
        "outputId": "ddb1b762-1d1a-425b-cf99-0e21d893ce24"
      },
      "outputs": [
        {
          "name": "stdout",
          "output_type": "stream",
          "text": [
            "\n",
            "    _|    _|  _|    _|    _|_|_|    _|_|_|  _|_|_|  _|      _|    _|_|_|      _|_|_|_|    _|_|      _|_|_|  _|_|_|_|\n",
            "    _|    _|  _|    _|  _|        _|          _|    _|_|    _|  _|            _|        _|    _|  _|        _|\n",
            "    _|_|_|_|  _|    _|  _|  _|_|  _|  _|_|    _|    _|  _|  _|  _|  _|_|      _|_|_|    _|_|_|_|  _|        _|_|_|\n",
            "    _|    _|  _|    _|  _|    _|  _|    _|    _|    _|    _|_|  _|    _|      _|        _|    _|  _|        _|\n",
            "    _|    _|    _|_|      _|_|_|    _|_|_|  _|_|_|  _|      _|    _|_|_|      _|        _|    _|    _|_|_|  _|_|_|_|\n",
            "\n",
            "    To log in, `huggingface_hub` requires a token generated from https://huggingface.co/settings/tokens .\n",
            "Enter your token (input will not be visible): "
          ]
        }
      ],
      "source": [
        " !huggingface-cli login"
      ]
    },
    {
      "cell_type": "code",
      "execution_count": 2,
      "metadata": {
        "colab": {
          "base_uri": "https://localhost:8080/"
        },
        "id": "6lD_oW1uavGp",
        "outputId": "af6b113e-49ea-481e-9ba9-40584bd71813"
      },
      "outputs": [
        {
          "name": "stdout",
          "output_type": "stream",
          "text": [
            "joshl1\n",
            "\u001b[1morgs: \u001b[0m UMBC\n"
          ]
        }
      ],
      "source": [
        "!huggingface-cli whoami"
      ]
    },
    {
      "cell_type": "markdown",
      "metadata": {
        "id": "DNrZtnUyYheg"
      },
      "source": [
        "## Installations\n",
        " Install the necessary libraries."
      ]
    },
    {
      "cell_type": "code",
      "execution_count": 3,
      "metadata": {
        "colab": {
          "base_uri": "https://localhost:8080/"
        },
        "id": "L0aEnrQEc8DK",
        "outputId": "44dae5df-9423-4502-c768-9ced0c96d4c0"
      },
      "outputs": [
        {
          "name": "stdout",
          "output_type": "stream",
          "text": [
            "Requirement already satisfied: transformers in /usr/local/lib/python3.10/dist-packages (4.46.2)\n",
            "Requirement already satisfied: accelerate in /usr/local/lib/python3.10/dist-packages (1.1.1)\n",
            "Collecting bitsandbytes\n",
            "  Downloading bitsandbytes-0.44.1-py3-none-manylinux_2_24_x86_64.whl.metadata (3.5 kB)\n",
            "Requirement already satisfied: filelock in /usr/local/lib/python3.10/dist-packages (from transformers) (3.16.1)\n",
            "Requirement already satisfied: huggingface-hub<1.0,>=0.23.2 in /usr/local/lib/python3.10/dist-packages (from transformers) (0.26.2)\n",
            "Requirement already satisfied: numpy>=1.17 in /usr/local/lib/python3.10/dist-packages (from transformers) (1.26.4)\n",
            "Requirement already satisfied: packaging>=20.0 in /usr/local/lib/python3.10/dist-packages (from transformers) (24.2)\n",
            "Requirement already satisfied: pyyaml>=5.1 in /usr/local/lib/python3.10/dist-packages (from transformers) (6.0.2)\n",
            "Requirement already satisfied: regex!=2019.12.17 in /usr/local/lib/python3.10/dist-packages (from transformers) (2024.9.11)\n",
            "Requirement already satisfied: requests in /usr/local/lib/python3.10/dist-packages (from transformers) (2.32.3)\n",
            "Requirement already satisfied: safetensors>=0.4.1 in /usr/local/lib/python3.10/dist-packages (from transformers) (0.4.5)\n",
            "Requirement already satisfied: tokenizers<0.21,>=0.20 in /usr/local/lib/python3.10/dist-packages (from transformers) (0.20.3)\n",
            "Requirement already satisfied: tqdm>=4.27 in /usr/local/lib/python3.10/dist-packages (from transformers) (4.66.6)\n",
            "Requirement already satisfied: psutil in /usr/local/lib/python3.10/dist-packages (from accelerate) (5.9.5)\n",
            "Requirement already satisfied: torch>=1.10.0 in /usr/local/lib/python3.10/dist-packages (from accelerate) (2.5.1+cu121)\n",
            "Requirement already satisfied: fsspec>=2023.5.0 in /usr/local/lib/python3.10/dist-packages (from huggingface-hub<1.0,>=0.23.2->transformers) (2024.10.0)\n",
            "Requirement already satisfied: typing-extensions>=3.7.4.3 in /usr/local/lib/python3.10/dist-packages (from huggingface-hub<1.0,>=0.23.2->transformers) (4.12.2)\n",
            "Requirement already satisfied: networkx in /usr/local/lib/python3.10/dist-packages (from torch>=1.10.0->accelerate) (3.4.2)\n",
            "Requirement already satisfied: jinja2 in /usr/local/lib/python3.10/dist-packages (from torch>=1.10.0->accelerate) (3.1.4)\n",
            "Requirement already satisfied: sympy==1.13.1 in /usr/local/lib/python3.10/dist-packages (from torch>=1.10.0->accelerate) (1.13.1)\n",
            "Requirement already satisfied: mpmath<1.4,>=1.1.0 in /usr/local/lib/python3.10/dist-packages (from sympy==1.13.1->torch>=1.10.0->accelerate) (1.3.0)\n",
            "Requirement already satisfied: charset-normalizer<4,>=2 in /usr/local/lib/python3.10/dist-packages (from requests->transformers) (3.4.0)\n",
            "Requirement already satisfied: idna<4,>=2.5 in /usr/local/lib/python3.10/dist-packages (from requests->transformers) (3.10)\n",
            "Requirement already satisfied: urllib3<3,>=1.21.1 in /usr/local/lib/python3.10/dist-packages (from requests->transformers) (2.2.3)\n",
            "Requirement already satisfied: certifi>=2017.4.17 in /usr/local/lib/python3.10/dist-packages (from requests->transformers) (2024.8.30)\n",
            "Requirement already satisfied: MarkupSafe>=2.0 in /usr/local/lib/python3.10/dist-packages (from jinja2->torch>=1.10.0->accelerate) (3.0.2)\n",
            "Downloading bitsandbytes-0.44.1-py3-none-manylinux_2_24_x86_64.whl (122.4 MB)\n",
            "\u001b[2K   \u001b[90m━━━━━━━━━━━━━━━━━━━━━━━━━━━━━━━━━━━━━━━━\u001b[0m \u001b[32m122.4/122.4 MB\u001b[0m \u001b[31m18.7 MB/s\u001b[0m eta \u001b[36m0:00:00\u001b[0m\n",
            "\u001b[?25hInstalling collected packages: bitsandbytes\n",
            "Successfully installed bitsandbytes-0.44.1\n"
          ]
        }
      ],
      "source": [
        "!pip install transformers accelerate bitsandbytes"
      ]
    },
    {
      "cell_type": "markdown",
      "metadata": {
        "id": "cKHfNL76a6qI"
      },
      "source": [
        "## Setup the model"
      ]
    },
    {
      "cell_type": "code",
      "execution_count": 11,
      "metadata": {
        "id": "B8DQYx2Ic_BZ"
      },
      "outputs": [],
      "source": [
        "from transformers import AutoModelForCausalLM, AutoTokenizer, BitsAndBytesConfig\n",
        "import random\n",
        "\n",
        "model_name = \"meta-llama/Llama-2-7b-chat-hf\""
      ]
    },
    {
      "cell_type": "markdown",
      "metadata": {
        "id": "v4JoNBkYRDCC"
      },
      "source": [
        "This next step will take a couple minutes to download the model."
      ]
    },
    {
      "cell_type": "code",
      "execution_count": 12,
      "metadata": {
        "colab": {
          "base_uri": "https://localhost:8080/",
          "height": 85,
          "referenced_widgets": [
            "dbf5d63324e84b169eb72445c2068843",
            "2bc3c6b3a4844abbb05fc235e30b99db",
            "ac850a88e17941e49425a02fcdfe3f6f",
            "99c12153cae34102be69b526014ac32c",
            "5a56e04db66f4f2fa2e0dbc0a02069b3",
            "e6879d48092a4f28ae0c0edca1522dc1",
            "74aff6c15d8f4583b162eefabc0adec3",
            "3139b5bf2de24f17a66d521d70a4ab32",
            "0f641ab7b3604840b46d36be571c71d4",
            "d8d43a95cb964ca48505240762bf6cd5",
            "19765ce6e6d24e32b467e8cd40fd1a9d"
          ]
        },
        "id": "MvuZlqp2cw6O",
        "outputId": "1b087944-8e50-48eb-a9f5-a3f2122e8640"
      },
      "outputs": [
        {
          "data": {
            "application/vnd.jupyter.widget-view+json": {
              "model_id": "dbf5d63324e84b169eb72445c2068843",
              "version_major": 2,
              "version_minor": 0
            },
            "text/plain": [
              "Loading checkpoint shards:   0%|          | 0/2 [00:00<?, ?it/s]"
            ]
          },
          "metadata": {},
          "output_type": "display_data"
        },
        {
          "name": "stderr",
          "output_type": "stream",
          "text": [
            "/usr/local/lib/python3.10/dist-packages/transformers/models/auto/tokenization_auto.py:809: FutureWarning: The `use_auth_token` argument is deprecated and will be removed in v5 of Transformers. Please use `token` instead.\n",
            "  warnings.warn(\n"
          ]
        }
      ],
      "source": [
        "# From the Llama-2 Chat Tutorial\n",
        "# https://colab.research.google.com/drive/1X1z9Q6domMKl2CnEM0QGHNwidLfR4dW2?usp=sharing#scrollTo=THqfvzHIjSK9\n",
        "\n",
        "quantization_config = BitsAndBytesConfig(load_in_4bit=True) # https://discuss.huggingface.co/t/correct-usage-of-bitsandbytesconfig/33809\n",
        "model = AutoModelForCausalLM.from_pretrained(model_name, device_map=\"auto\", quantization_config=quantization_config)\n",
        "tokenizer = AutoTokenizer.from_pretrained(model_name, use_fast=True, use_auth_token=True)\n"
      ]
    },
    {
      "cell_type": "code",
      "execution_count": 16,
      "metadata": {
        "id": "_jyz-YLetirZ"
      },
      "outputs": [],
      "source": [
        "def roll_dice():\n",
        "    # Simulate a dice roll between 1 and 20\n",
        "    return random.randint(1, 20)\n",
        "\n",
        "def generate_game_response(history, action):\n",
        "    # Combine the game history into a cohesive context\n",
        "    history_context = \" \".join(history[-3:])  # Use the last 3 situations for context\n",
        "\n",
        "    # Determine success or failure\n",
        "    dice_result = roll_dice()\n",
        "    if dice_result >= 10:\n",
        "        outcome = \"success\"\n",
        "    else:\n",
        "        outcome = \"failure\"\n",
        "    #TODO: Critical Success and failure?\n",
        "\n",
        "    print(f\"\\n[DICE ROLL: {dice_result}] Your action resulted in a {outcome}.\")\n",
        "\n",
        "    prompt = f\"\"\"You are narrating an interactive fiction game. Given the game history and player's action, describe what happens next in 2-3 sentences. The player's action resulted in a {outcome}. Focus only on the immediate new situation.\n",
        "\n",
        "Game history:\n",
        "{history_context}\n",
        "\n",
        "Player action: {action}\n",
        "\n",
        "What happens next:\"\"\"\n",
        "\n",
        "    model_inputs = tokenizer(prompt, return_tensors=\"pt\").to(\"cuda:0\")\n",
        "    output = model.generate(**model_inputs, max_length=512, temperature=0.7)\n",
        "    new_situation = tokenizer.decode(output[0], skip_special_tokens=True)[len(prompt):].strip()\n",
        "\n",
        "    # Return only the new situation\n",
        "    return new_situation"
      ]
    },
    {
      "cell_type": "code",
      "execution_count": 17,
      "metadata": {
        "colab": {
          "base_uri": "https://localhost:8080/"
        },
        "id": "usFsR6M7Bs8T",
        "outputId": "c3d8f838-8d4b-420b-8999-b7556b343115"
      },
      "outputs": [
        {
          "name": "stdout",
          "output_type": "stream",
          "text": [
            "\n",
            "Welcome to the AI Generated Adventure!\n",
            "\n",
            "Your situation: You are creating an interactive fiction game. Describe the initial setting and situation the player finds themselves in. Keep it to 2-3 sentences.\n",
            "\n",
            "The game begins in a small village nestled in the heart of a dense forest. The player is a young adventurer who has just arrived in the village, seeking fortune and glory in the untamed wilderness beyond. As they explore the village, they notice strange occurrences happening around them, hinting at a dark and sinister force lurking in the shadows.\n",
            "\n",
            "What would you like to do? (type 'quit' to end)\n",
            "> I try to sense what is lurking in the shadows.\n",
            "\n",
            "[DICE ROLL: 19] Your action resulted in a success.\n",
            "\n",
            "As you focus your senses on the shadows, you pick up on a faint, eerie hum emanating from the nearby woods. The villagers you speak to seem nervous and hesitant to meet your gaze, casting quick glances around before continuing with their daily routines.\n",
            "\n",
            "What would you like to do? (type 'quit' to end)\n",
            "> I smile warmly at them, hopefully they can see I am friendly.\n",
            "\n",
            "[DICE ROLL: 3] Your action resulted in a failure.\n",
            "\n",
            "As you try to make friendly contact with the villagers, they suddenly stop what they are doing and stare at you with wide eyes, their mouths agape in shock. One of them points at you, shouting \"Monster!\", and the others quickly join in, repeating the accusation in unison. The villagers begin to back away from you, muttering darkly under their breaths, and you can sense an unsettling atmosphere of fear and hostility in the air.\n",
            "\n",
            "What would you like to do? (type 'quit' to end)\n",
            "> I drop my weapon on to the floor, showing that i mean no harm.\n",
            "\n",
            "[DICE ROLL: 9] Your action resulted in a failure.\n",
            "\n",
            "The villagers stop their sudden retreat and stare at you with a mix of confusion and suspicion. One of them cautiously approaches you, holding a small wooden bowl in their hand. They slowly offer it to you, mumbling something under their breath, but their voice is barely audible over the ominous hum emanating from the woods. As you reach for the bowl, they quickly snatch it back, their eyes darting around nervously. The villagers begin to whisper among themselves, their voices growing louder and more urgent. Suddenly, a group of them grab you and drag you towards the edge of the village, their grip tightening as they pull you deeper into the darkness\n",
            "\n",
            "What would you like to do? (type 'quit' to end)\n",
            "> I put my weapon back on my back and move away slowly, holding my hands in the air to show i mean no harm.\n",
            "\n",
            "[DICE ROLL: 9] Your action resulted in a failure.\n",
            "\n",
            "The villagers' grip on you tightens as they drag you deeper into the woods, muttering something in a language you don't understand. The humming grows louder and more intense, and you can feel the air around you begin to distort and swirl. Suddenly, a figure steps out of the shadows, tall and imposing, with eyes that glow like embers. The figure speaks in a low, rumbling voice,\n",
            "\n",
            "What would you like to do? (type 'quit' to end)\n",
            "> quit\n",
            "\n",
            "Thanks for playing!\n"
          ]
        }
      ],
      "source": [
        "# Generate initial game setting\n",
        "setting_prompt = \"\"\"You are creating an interactive fiction game. Describe the initial setting and situation the player finds themselves in. Keep it to 2-3 sentences.\"\"\"\n",
        "\n",
        "model_inputs = tokenizer(setting_prompt, return_tensors=\"pt\").to(\"cuda:0\")\n",
        "output = model.generate(**model_inputs, max_length=1024, temperature=0.7)\n",
        "initial_situation = tokenizer.decode(output[0], skip_special_tokens=True).strip()\n",
        "\n",
        "# Initialize game memory with the initial situation\n",
        "game_memory = [initial_situation]\n",
        "\n",
        "print(\"\\nWelcome to the AI Generated Adventure!\")\n",
        "print(\"\\nYour situation:\", initial_situation)\n",
        "\n",
        "# Main game loop\n",
        "while True:\n",
        "    print(\"\\nWhat would you like to do? (type 'quit' to end)\")\n",
        "    action = input(\"> \")\n",
        "\n",
        "    if action.lower() == 'quit':\n",
        "        print(\"\\nThanks for playing!\")\n",
        "        break\n",
        "\n",
        "    # Generate response based on memory and player's action\n",
        "    response = generate_game_response(game_memory, action)\n",
        "    game_memory.append(response)  # Add the new situation to memory\n",
        "    print(\"\\n\" + response)\n",
        "\n",
        "    #TODO: Limit the memory size."
      ]
    }
  ],
  "metadata": {
    "accelerator": "GPU",
    "colab": {
      "collapsed_sections": [
        "DNrZtnUyYheg"
      ],
      "gpuType": "A100",
      "machine_shape": "hm",
      "provenance": []
    },
    "kernelspec": {
      "display_name": "mlenv",
      "language": "python",
      "name": "python3"
    },
    "language_info": {
      "codemirror_mode": {
        "name": "ipython",
        "version": 3
      },
      "file_extension": ".py",
      "mimetype": "text/x-python",
      "name": "python",
      "nbconvert_exporter": "python",
      "pygments_lexer": "ipython3",
      "version": "3.9.16"
    },
    "widgets": {
      "application/vnd.jupyter.widget-state+json": {
        "0f641ab7b3604840b46d36be571c71d4": {
          "model_module": "@jupyter-widgets/controls",
          "model_module_version": "1.5.0",
          "model_name": "ProgressStyleModel",
          "state": {
            "_model_module": "@jupyter-widgets/controls",
            "_model_module_version": "1.5.0",
            "_model_name": "ProgressStyleModel",
            "_view_count": null,
            "_view_module": "@jupyter-widgets/base",
            "_view_module_version": "1.2.0",
            "_view_name": "StyleView",
            "bar_color": null,
            "description_width": ""
          }
        },
        "19765ce6e6d24e32b467e8cd40fd1a9d": {
          "model_module": "@jupyter-widgets/controls",
          "model_module_version": "1.5.0",
          "model_name": "DescriptionStyleModel",
          "state": {
            "_model_module": "@jupyter-widgets/controls",
            "_model_module_version": "1.5.0",
            "_model_name": "DescriptionStyleModel",
            "_view_count": null,
            "_view_module": "@jupyter-widgets/base",
            "_view_module_version": "1.2.0",
            "_view_name": "StyleView",
            "description_width": ""
          }
        },
        "2bc3c6b3a4844abbb05fc235e30b99db": {
          "model_module": "@jupyter-widgets/controls",
          "model_module_version": "1.5.0",
          "model_name": "HTMLModel",
          "state": {
            "_dom_classes": [],
            "_model_module": "@jupyter-widgets/controls",
            "_model_module_version": "1.5.0",
            "_model_name": "HTMLModel",
            "_view_count": null,
            "_view_module": "@jupyter-widgets/controls",
            "_view_module_version": "1.5.0",
            "_view_name": "HTMLView",
            "description": "",
            "description_tooltip": null,
            "layout": "IPY_MODEL_e6879d48092a4f28ae0c0edca1522dc1",
            "placeholder": "​",
            "style": "IPY_MODEL_74aff6c15d8f4583b162eefabc0adec3",
            "value": "Loading checkpoint shards: 100%"
          }
        },
        "3139b5bf2de24f17a66d521d70a4ab32": {
          "model_module": "@jupyter-widgets/base",
          "model_module_version": "1.2.0",
          "model_name": "LayoutModel",
          "state": {
            "_model_module": "@jupyter-widgets/base",
            "_model_module_version": "1.2.0",
            "_model_name": "LayoutModel",
            "_view_count": null,
            "_view_module": "@jupyter-widgets/base",
            "_view_module_version": "1.2.0",
            "_view_name": "LayoutView",
            "align_content": null,
            "align_items": null,
            "align_self": null,
            "border": null,
            "bottom": null,
            "display": null,
            "flex": null,
            "flex_flow": null,
            "grid_area": null,
            "grid_auto_columns": null,
            "grid_auto_flow": null,
            "grid_auto_rows": null,
            "grid_column": null,
            "grid_gap": null,
            "grid_row": null,
            "grid_template_areas": null,
            "grid_template_columns": null,
            "grid_template_rows": null,
            "height": null,
            "justify_content": null,
            "justify_items": null,
            "left": null,
            "margin": null,
            "max_height": null,
            "max_width": null,
            "min_height": null,
            "min_width": null,
            "object_fit": null,
            "object_position": null,
            "order": null,
            "overflow": null,
            "overflow_x": null,
            "overflow_y": null,
            "padding": null,
            "right": null,
            "top": null,
            "visibility": null,
            "width": null
          }
        },
        "5a56e04db66f4f2fa2e0dbc0a02069b3": {
          "model_module": "@jupyter-widgets/base",
          "model_module_version": "1.2.0",
          "model_name": "LayoutModel",
          "state": {
            "_model_module": "@jupyter-widgets/base",
            "_model_module_version": "1.2.0",
            "_model_name": "LayoutModel",
            "_view_count": null,
            "_view_module": "@jupyter-widgets/base",
            "_view_module_version": "1.2.0",
            "_view_name": "LayoutView",
            "align_content": null,
            "align_items": null,
            "align_self": null,
            "border": null,
            "bottom": null,
            "display": null,
            "flex": null,
            "flex_flow": null,
            "grid_area": null,
            "grid_auto_columns": null,
            "grid_auto_flow": null,
            "grid_auto_rows": null,
            "grid_column": null,
            "grid_gap": null,
            "grid_row": null,
            "grid_template_areas": null,
            "grid_template_columns": null,
            "grid_template_rows": null,
            "height": null,
            "justify_content": null,
            "justify_items": null,
            "left": null,
            "margin": null,
            "max_height": null,
            "max_width": null,
            "min_height": null,
            "min_width": null,
            "object_fit": null,
            "object_position": null,
            "order": null,
            "overflow": null,
            "overflow_x": null,
            "overflow_y": null,
            "padding": null,
            "right": null,
            "top": null,
            "visibility": null,
            "width": null
          }
        },
        "74aff6c15d8f4583b162eefabc0adec3": {
          "model_module": "@jupyter-widgets/controls",
          "model_module_version": "1.5.0",
          "model_name": "DescriptionStyleModel",
          "state": {
            "_model_module": "@jupyter-widgets/controls",
            "_model_module_version": "1.5.0",
            "_model_name": "DescriptionStyleModel",
            "_view_count": null,
            "_view_module": "@jupyter-widgets/base",
            "_view_module_version": "1.2.0",
            "_view_name": "StyleView",
            "description_width": ""
          }
        },
        "99c12153cae34102be69b526014ac32c": {
          "model_module": "@jupyter-widgets/controls",
          "model_module_version": "1.5.0",
          "model_name": "HTMLModel",
          "state": {
            "_dom_classes": [],
            "_model_module": "@jupyter-widgets/controls",
            "_model_module_version": "1.5.0",
            "_model_name": "HTMLModel",
            "_view_count": null,
            "_view_module": "@jupyter-widgets/controls",
            "_view_module_version": "1.5.0",
            "_view_name": "HTMLView",
            "description": "",
            "description_tooltip": null,
            "layout": "IPY_MODEL_d8d43a95cb964ca48505240762bf6cd5",
            "placeholder": "​",
            "style": "IPY_MODEL_19765ce6e6d24e32b467e8cd40fd1a9d",
            "value": " 2/2 [00:05&lt;00:00,  2.50s/it]"
          }
        },
        "ac850a88e17941e49425a02fcdfe3f6f": {
          "model_module": "@jupyter-widgets/controls",
          "model_module_version": "1.5.0",
          "model_name": "FloatProgressModel",
          "state": {
            "_dom_classes": [],
            "_model_module": "@jupyter-widgets/controls",
            "_model_module_version": "1.5.0",
            "_model_name": "FloatProgressModel",
            "_view_count": null,
            "_view_module": "@jupyter-widgets/controls",
            "_view_module_version": "1.5.0",
            "_view_name": "ProgressView",
            "bar_style": "success",
            "description": "",
            "description_tooltip": null,
            "layout": "IPY_MODEL_3139b5bf2de24f17a66d521d70a4ab32",
            "max": 2,
            "min": 0,
            "orientation": "horizontal",
            "style": "IPY_MODEL_0f641ab7b3604840b46d36be571c71d4",
            "value": 2
          }
        },
        "d8d43a95cb964ca48505240762bf6cd5": {
          "model_module": "@jupyter-widgets/base",
          "model_module_version": "1.2.0",
          "model_name": "LayoutModel",
          "state": {
            "_model_module": "@jupyter-widgets/base",
            "_model_module_version": "1.2.0",
            "_model_name": "LayoutModel",
            "_view_count": null,
            "_view_module": "@jupyter-widgets/base",
            "_view_module_version": "1.2.0",
            "_view_name": "LayoutView",
            "align_content": null,
            "align_items": null,
            "align_self": null,
            "border": null,
            "bottom": null,
            "display": null,
            "flex": null,
            "flex_flow": null,
            "grid_area": null,
            "grid_auto_columns": null,
            "grid_auto_flow": null,
            "grid_auto_rows": null,
            "grid_column": null,
            "grid_gap": null,
            "grid_row": null,
            "grid_template_areas": null,
            "grid_template_columns": null,
            "grid_template_rows": null,
            "height": null,
            "justify_content": null,
            "justify_items": null,
            "left": null,
            "margin": null,
            "max_height": null,
            "max_width": null,
            "min_height": null,
            "min_width": null,
            "object_fit": null,
            "object_position": null,
            "order": null,
            "overflow": null,
            "overflow_x": null,
            "overflow_y": null,
            "padding": null,
            "right": null,
            "top": null,
            "visibility": null,
            "width": null
          }
        },
        "dbf5d63324e84b169eb72445c2068843": {
          "model_module": "@jupyter-widgets/controls",
          "model_module_version": "1.5.0",
          "model_name": "HBoxModel",
          "state": {
            "_dom_classes": [],
            "_model_module": "@jupyter-widgets/controls",
            "_model_module_version": "1.5.0",
            "_model_name": "HBoxModel",
            "_view_count": null,
            "_view_module": "@jupyter-widgets/controls",
            "_view_module_version": "1.5.0",
            "_view_name": "HBoxView",
            "box_style": "",
            "children": [
              "IPY_MODEL_2bc3c6b3a4844abbb05fc235e30b99db",
              "IPY_MODEL_ac850a88e17941e49425a02fcdfe3f6f",
              "IPY_MODEL_99c12153cae34102be69b526014ac32c"
            ],
            "layout": "IPY_MODEL_5a56e04db66f4f2fa2e0dbc0a02069b3"
          }
        },
        "e6879d48092a4f28ae0c0edca1522dc1": {
          "model_module": "@jupyter-widgets/base",
          "model_module_version": "1.2.0",
          "model_name": "LayoutModel",
          "state": {
            "_model_module": "@jupyter-widgets/base",
            "_model_module_version": "1.2.0",
            "_model_name": "LayoutModel",
            "_view_count": null,
            "_view_module": "@jupyter-widgets/base",
            "_view_module_version": "1.2.0",
            "_view_name": "LayoutView",
            "align_content": null,
            "align_items": null,
            "align_self": null,
            "border": null,
            "bottom": null,
            "display": null,
            "flex": null,
            "flex_flow": null,
            "grid_area": null,
            "grid_auto_columns": null,
            "grid_auto_flow": null,
            "grid_auto_rows": null,
            "grid_column": null,
            "grid_gap": null,
            "grid_row": null,
            "grid_template_areas": null,
            "grid_template_columns": null,
            "grid_template_rows": null,
            "height": null,
            "justify_content": null,
            "justify_items": null,
            "left": null,
            "margin": null,
            "max_height": null,
            "max_width": null,
            "min_height": null,
            "min_width": null,
            "object_fit": null,
            "object_position": null,
            "order": null,
            "overflow": null,
            "overflow_x": null,
            "overflow_y": null,
            "padding": null,
            "right": null,
            "top": null,
            "visibility": null,
            "width": null
          }
        }
      }
    }
  },
  "nbformat": 4,
  "nbformat_minor": 0
}
